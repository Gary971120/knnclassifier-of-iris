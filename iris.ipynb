{
 "cells": [
  {
   "cell_type": "code",
   "execution_count": 45,
   "metadata": {},
   "outputs": [],
   "source": [
    "import numpy as np\n",
    "import pandas as pd\n",
    "import matplotlib.pyplot as plt\n",
    "import math\n",
    "import time"
   ]
  },
  {
   "cell_type": "code",
   "execution_count": 13,
   "metadata": {},
   "outputs": [],
   "source": [
    "path=r'C:\\Users\\User\\Desktop\\Irisdataset\\iris.csv'\n",
    "iris=pd.read_csv(path)\n",
    "del iris['Unnamed: 0']"
   ]
  },
  {
   "cell_type": "code",
   "execution_count": 14,
   "metadata": {},
   "outputs": [],
   "source": [
    "##normalization\n",
    "for i in iris.columns[0:4]:\n",
    "    iris[i]= iris[i].apply(lambda x:(x-iris[i].mean())/ iris[i].std())"
   ]
  },
  {
   "cell_type": "code",
   "execution_count": 15,
   "metadata": {},
   "outputs": [
    {
     "data": {
      "image/png": "[encoded data removed]",
      "text/plain": [
       "<Figure size 432x288 with 1 Axes>"
      ]
     },
     "metadata": {
      "needs_background": "light"
     },
     "output_type": "display_data"
    }
   ],
   "source": [
    "plt.scatter(iris[iris.Species=='setosa']['Sepal.Length'],iris[iris.Species=='setosa']['Sepal.Width'],label='setosa')\n",
    "plt.scatter(iris[iris.Species=='versicolor']['Sepal.Length'],iris[iris.Species=='versicolor']['Sepal.Width'],label='versicolor')\n",
    "plt.scatter(iris[iris.Species=='virginica']['Sepal.Length'],iris[iris.Species=='virginica']['Sepal.Width'],label='virginica')\n",
    "plt.xlabel('Sepal.Length')\n",
    "plt.ylabel('Sepal.Width')\n",
    "plt.title('Sepal')\n",
    "plt.legend(loc='upper right')\n",
    "plt.show()"
   ]
  },
  {
   "cell_type": "code",
   "execution_count": 16,
   "metadata": {},
   "outputs": [
    {
     "data": {
      "image/png": "[encoded data removed]",
      "text/plain": [
       "<Figure size 432x288 with 1 Axes>"
      ]
     },
     "metadata": {
      "needs_background": "light"
     },
     "output_type": "display_data"
    }
   ],
   "source": [
    "plt.scatter(iris[iris.Species=='setosa']['Petal.Length'],iris[iris.Species=='setosa']['Petal.Width'],label='setosa')\n",
    "plt.scatter(iris[iris.Species=='versicolor']['Petal.Length'],iris[iris.Species=='versicolor']['Petal.Width'],label='versicolor')\n",
    "plt.scatter(iris[iris.Species=='virginica']['Petal.Length'],iris[iris.Species=='virginica']['Petal.Width'],label='virginica')\n",
    "plt.xlabel('Petal.Length')\n",
    "plt.ylabel('Petal.Width')\n",
    "plt.title('Petal')\n",
    "plt.legend(loc='upper right')\n",
    "plt.show()"
   ]
  },
  {
   "cell_type": "code",
   "execution_count": 17,
   "metadata": {},
   "outputs": [],
   "source": [
    "def compare(n1,n2,n3):\n",
    "    if (n1>n2)&(n1>n3):\n",
    "        return 'setosa'\n",
    "    elif (n2>n3)&(n2>n1):\n",
    "        return 'versicolor'\n",
    "    elif (n3>n1)&(n3>n2):\n",
    "        return 'virginica'\n",
    "    else:\n",
    "        return np.nan"
   ]
  },
  {
   "cell_type": "code",
   "execution_count": 18,
   "metadata": {},
   "outputs": [],
   "source": [
    "def knnclassifier(x,y,n):\n",
    "    n_setosa=0\n",
    "    n_versicolor=0\n",
    "    n_virginica=0\n",
    "    for i in range(len(iris)):\n",
    "        dx=iris['Sepal.Length'][i]-x\n",
    "        dy=iris['Sepal.Width'][i]-y\n",
    "        d=math.sqrt(dx**2+dy**2)\n",
    "        if d<=n:\n",
    "            if iris['Species'][i]=='setosa':\n",
    "                n_setosa+=1/d\n",
    "            elif iris['Species'][i]=='versicolor':\n",
    "                n_versicolor+=1/d\n",
    "            elif iris['Species'][i]=='virginica':\n",
    "                n_virginica+=1/d\n",
    "    return compare(n_setosa,n_versicolor,n_virginica)\n",
    "            "
   ]
  },
  {
   "cell_type": "code",
   "execution_count": 35,
   "metadata": {},
   "outputs": [],
   "source": [
    "x=np.arange(iris['Sepal.Length'].min(),iris['Sepal.Length'].max(),0.004)\n",
    "y=np.arange(iris['Sepal.Width'].min(),iris['Sepal.Width'].max(),0.004)\n",
    "test=[[]]\n",
    "for i in x:\n",
    "    for v in y:\n",
    "        test.append([i,v])"
   ]
  },
  {
   "cell_type": "code",
   "execution_count": 36,
   "metadata": {},
   "outputs": [
    {
     "data": {
      "text/plain": [
       "1087"
      ]
     },
     "execution_count": 36,
     "metadata": {},
     "output_type": "execute_result"
    }
   ],
   "source": [
    "len(x)"
   ]
  },
  {
   "cell_type": "code",
   "execution_count": 37,
   "metadata": {},
   "outputs": [],
   "source": [
    "test=pd.DataFrame(test,columns=['x','y'])\n",
    "test=test.dropna()"
   ]
  },
  {
   "cell_type": "code",
   "execution_count": 38,
   "metadata": {},
   "outputs": [
    {
     "name": "stdout",
     "output_type": "stream",
     "text": [
      " completed\n"
     ]
    }
   ],
   "source": [
    "_species=[]\n",
    "all=len(test)\n",
    "i=0\n",
    "for index,x,y in test.itertuples():\n",
    "    _species.append(knnclassifier(x,y,0.5))\n",
    "    #显示进度\n",
    "    percent='{:.2%}'.format(i/all)\n",
    "    i+=1\n",
    "    print('\\r %s' % (percent),end='')\n",
    "print('\\r %s' % ('completed'))"
   ]
  },
  {
   "cell_type": "code",
   "execution_count": 39,
   "metadata": {},
   "outputs": [],
   "source": [
    "test['_species']=_species"
   ]
  },
  {
   "cell_type": "code",
   "execution_count": 40,
   "metadata": {},
   "outputs": [
    {
     "data": {
      "text/plain": [
       "_species\n",
       "setosa        390335\n",
       "versicolor    316650\n",
       "virginica     397606\n",
       "dtype: int64"
      ]
     },
     "execution_count": 40,
     "metadata": {},
     "output_type": "execute_result"
    }
   ],
   "source": [
    "test=test.dropna()\n",
    "test.groupby(test['_species']).size()"
   ]
  },
  {
   "cell_type": "code",
   "execution_count": 41,
   "metadata": {},
   "outputs": [
    {
     "data": {
      "image/png": "[encoded data removed]",
      "text/plain": [
       "<Figure size 432x288 with 1 Axes>"
      ]
     },
     "metadata": {
      "needs_background": "light"
     },
     "output_type": "display_data"
    }
   ],
   "source": [
    "plt.scatter(test[test._species=='setosa']['x'],test[test._species=='setosa']['y'],label='setosa')\n",
    "plt.scatter(test[test._species=='versicolor']['x'],test[test._species=='versicolor']['y'],label='versicolor')\n",
    "plt.scatter(test[test._species=='virginica']['x'],test[test._species=='virginica']['y'],label='virginica')\n",
    "plt.xlabel('Sepal.Length')\n",
    "plt.ylabel('Sepal.Width')\n",
    "plt.title('Sepal')\n",
    "plt.legend(loc='upper right')\n",
    "plt.show()"
   ]
  },
  {
   "cell_type": "code",
   "execution_count": 44,
   "metadata": {},
   "outputs": [],
   "source": [
    "test.to_csv('iris_knnclassifier')"
   ]
  }
 ],
 "metadata": {
  "kernelspec": {
   "display_name": "Python 3",
   "language": "python",
   "name": "python3"
  },
  "language_info": {
   "codemirror_mode": {
    "name": "ipython",
    "version": 3
   },
   "file_extension": ".py",
   "mimetype": "text/x-python",
   "name": "python",
   "nbconvert_exporter": "python",
   "pygments_lexer": "ipython3",
   "version": "3.7.3"
  }
 },
 "nbformat": 4,
 "nbformat_minor": 4
}
